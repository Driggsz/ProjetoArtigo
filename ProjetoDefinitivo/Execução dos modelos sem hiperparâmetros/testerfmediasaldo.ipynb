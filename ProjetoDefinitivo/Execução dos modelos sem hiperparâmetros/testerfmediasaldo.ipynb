{
 "cells": [
  {
   "cell_type": "code",
   "execution_count": 1,
   "metadata": {},
   "outputs": [],
   "source": [
    "import pandas as pd\n",
    "from sklearn.model_selection import train_test_split\n",
    "from sklearn.ensemble import RandomForestClassifier\n",
    "from sklearn.metrics import accuracy_score, precision_score, recall_score, classification_report, f1_score\n",
    "from imblearn.under_sampling import RandomUnderSampler\n",
    "import numpy as np\n"
   ]
  },
  {
   "cell_type": "code",
   "execution_count": 2,
   "metadata": {},
   "outputs": [],
   "source": [
    "# Carregar os dados\n",
    "df = pd.read_csv('dados_preprocessados.csv')\n",
    "\n",
    "# Selecionar colunas relevantes\n",
    "features = ['colocacao_mandante', 'colocacao_visitante',\n",
    "            'media_gols_mandante', 'media_gols_visitante',\n",
    "            'partidas_jogadas_mandante', 'partidas_jogadas_visitante', \n",
    "            'saldo_acumulado_mandante', 'saldo_acumulado_visitante']\n"
   ]
  },
  {
   "cell_type": "code",
   "execution_count": 3,
   "metadata": {},
   "outputs": [],
   "source": [
    "# Definir as features (X) e o target (y)\n",
    "X = df[features]\n",
    "y = np.where(df['gols_mandante'] > df['gols_visitante'], 1, \n",
    "             np.where(df['gols_mandante'] < df['gols_visitante'], 2, 0))\n"
   ]
  },
  {
   "cell_type": "code",
   "execution_count": 4,
   "metadata": {},
   "outputs": [],
   "source": [
    "# Dividir os dados em conjuntos de treinamento e teste\n",
    "X_train, X_test, y_train, y_test = train_test_split(X, y, test_size=0.2, random_state=42)\n",
    "\n",
    "# Balanceamento dos dados com RandomUnderSampler\n",
    "rus = RandomUnderSampler(random_state=42)\n",
    "X_train_res, y_train_res = rus.fit_resample(X_train, y_train)\n"
   ]
  },
  {
   "cell_type": "code",
   "execution_count": 5,
   "metadata": {},
   "outputs": [],
   "source": [
    "# Treinar o modelo RandomForestClassifier\n",
    "modelo_rf = RandomForestClassifier(random_state=42)\n",
    "modelo_rf.fit(X_train_res, y_train_res)\n",
    "\n",
    "# Fazer previsões no conjunto de teste\n",
    "previsoes = modelo_rf.predict(X_test)"
   ]
  },
  {
   "cell_type": "code",
   "execution_count": 6,
   "metadata": {},
   "outputs": [
    {
     "name": "stdout",
     "output_type": "stream",
     "text": [
      "Acurácia do modelo Random Forest: 0.5033840947546532\n",
      "Precisão para cada classe (Empate, Vitória mandante, Vitória visitante): [0.29943503 0.6964657  0.44380403]\n",
      "Sensibilidade para cada classe (Empate, Vitória mandante, Vitória visitante): [0.33974359 0.56302521 0.56      ]\n",
      "F1-Score para cada classe (Empate, Vitória mandante, Vitória visitante): [0.31831832 0.62267658 0.49517685]\n"
     ]
    }
   ],
   "source": [
    "# Avaliar a precisão do modelo\n",
    "acuracia = accuracy_score(y_test, previsoes)\n",
    "precisao = precision_score(y_test, previsoes, average=None)\n",
    "sensibilidade = recall_score(y_test, previsoes, average=None)\n",
    "f1_scores = f1_score(y_test, previsoes, average=None)\n",
    "print(\"Acurácia do modelo Random Forest:\", acuracia)\n",
    "print(\"Precisão para cada classe (Empate, Vitória mandante, Vitória visitante):\", precisao)\n",
    "print(\"Sensibilidade para cada classe (Empate, Vitória mandante, Vitória visitante):\", sensibilidade)\n",
    "print(\"F1-Score para cada classe (Empate, Vitória mandante, Vitória visitante):\", f1_scores)"
   ]
  },
  {
   "cell_type": "code",
   "execution_count": 7,
   "metadata": {},
   "outputs": [
    {
     "name": "stdout",
     "output_type": "stream",
     "text": [
      "Relatório de classificação:\n",
      "                   precision    recall  f1-score   support\n",
      "\n",
      "           Empate       0.30      0.34      0.32       312\n",
      " Vitória mandante       0.70      0.56      0.62       595\n",
      "Vitória visitante       0.44      0.56      0.50       275\n",
      "\n",
      "         accuracy                           0.50      1182\n",
      "        macro avg       0.48      0.49      0.48      1182\n",
      "     weighted avg       0.53      0.50      0.51      1182\n",
      "\n"
     ]
    }
   ],
   "source": [
    "# Imprimir relatório de classificação completo\n",
    "print(\"Relatório de classificação:\")\n",
    "print(classification_report(y_test, previsoes, target_names=['Empate', 'Vitória mandante', 'Vitória visitante']))"
   ]
  }
 ],
 "metadata": {
  "kernelspec": {
   "display_name": "Python 3",
   "language": "python",
   "name": "python3"
  },
  "language_info": {
   "codemirror_mode": {
    "name": "ipython",
    "version": 3
   },
   "file_extension": ".py",
   "mimetype": "text/x-python",
   "name": "python",
   "nbconvert_exporter": "python",
   "pygments_lexer": "ipython3",
   "version": "3.12.0"
  }
 },
 "nbformat": 4,
 "nbformat_minor": 2
}
